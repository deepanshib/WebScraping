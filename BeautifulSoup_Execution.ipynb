{
 "cells": [
  {
   "cell_type": "code",
   "execution_count": 38,
   "id": "fbf76b7b",
   "metadata": {},
   "outputs": [],
   "source": [
    "from bs4 import BeautifulSoup\n"
   ]
  },
  {
   "cell_type": "code",
   "execution_count": 39,
   "id": "9007aa2c",
   "metadata": {},
   "outputs": [
    {
     "name": "stdout",
     "output_type": "stream",
     "text": [
      "<html><p>This is <b>invalid HTML</b></p></html>\n",
      "<html><body><p>This is <b>invalid HTML</b></p></body></html>\n",
      "<?xml version=\"1.0\" encoding=\"utf-8\"?>\n",
      "<html><p>This is <b>invalid HTML</b></p></html>\n",
      "<html><head></head><body><p>This is <b>invalid HTML</b></p></body></html>\n"
     ]
    }
   ],
   "source": [
    "#parsing - beautifulsoup\n",
    "\n",
    "soup = BeautifulSoup(\"<html><p>This is <b>invalid HTML</p></html>\", \"html.parser\")\n",
    "print(soup)\n",
    "\n",
    "soup = BeautifulSoup(\"<html><p>This is <b>invalid HTML</p></html>\", \"lxml\")\n",
    "print(soup)\n",
    "\n",
    "soup = BeautifulSoup(\"<html><p>This is <b>invalid HTML</p></html>\", \"xml\")\n",
    "print(soup)\n",
    "\n",
    "soup = BeautifulSoup(\"<html><p>This is <b>invalid HTML</p></html>\", \"html5lib\")\n",
    "print(soup)\n"
   ]
  },
  {
   "cell_type": "code",
   "execution_count": null,
   "id": "0e872ad2",
   "metadata": {},
   "outputs": [],
   "source": []
  },
  {
   "cell_type": "markdown",
   "id": "b1cea22d",
   "metadata": {},
   "source": [
    "**Objects**"
   ]
  },
  {
   "cell_type": "code",
   "execution_count": 42,
   "id": "a7596fc2",
   "metadata": {},
   "outputs": [
    {
     "data": {
      "text/plain": [
       "<b class=\"abc\" id=\"weather\">Today is a good weather</b>"
      ]
     },
     "execution_count": 42,
     "metadata": {},
     "output_type": "execute_result"
    }
   ],
   "source": [
    "#comment\n",
    "markup = \"<b><!--this is a comment - explains beautifulsoup comment object--></b>\"\n",
    "soup = BeautifulSoup(markup, 'html.parser')\n",
    "comment = soup.b.string\n",
    "type(comment)\n",
    "#print(comment)\n",
    "# objects\n",
    "\n",
    "#tag\n",
    "soup = BeautifulSoup('<b id =\"weather\" class=\"abc\">Today is a good weather</b>', 'html.parser')\n",
    "tag = soup.b\n",
    "type(tag)\n",
    "tag.name\n",
    "tag['id']\n",
    "tag.attrs\n",
    "tag.attrs.keys()\n",
    "\n",
    "#navigationalstring\n",
    "tag.string\n",
    "#tag.string.replace_with(\"No longer a good day\")\n",
    "tag\n",
    "\n"
   ]
  },
  {
   "cell_type": "code",
   "execution_count": 45,
   "id": "11c92751",
   "metadata": {},
   "outputs": [],
   "source": [
    "import requests\n",
    "req = requests.get('https://en.wikipedia.org/wiki/Python_(programming_language)')\n",
    "soup = BeautifulSoup(req.text, \"lxml\")"
   ]
  },
  {
   "cell_type": "code",
   "execution_count": 46,
   "id": "7fda7dda",
   "metadata": {},
   "outputs": [
    {
     "name": "stdout",
     "output_type": "stream",
     "text": [
      "<title>Python (programming language) - Wikipedia</title>\n",
      "title\n",
      "Python (programming language) - Wikipedia\n"
     ]
    }
   ],
   "source": [
    "print (soup.title)\n",
    "print(soup.title.name)\n",
    "print(soup.title.string)\n"
   ]
  },
  {
   "cell_type": "markdown",
   "id": "9e1e892a",
   "metadata": {},
   "source": [
    "**Data Scraping from Wikipedia**"
   ]
  },
  {
   "cell_type": "code",
   "execution_count": 43,
   "id": "c58dbceb",
   "metadata": {},
   "outputs": [
    {
     "name": "stdout",
     "output_type": "stream",
     "text": [
      "Contents\n",
      "Perspectives on entrepreneurship[edit]\n",
      "Elements[edit]\n",
      "Entrepreneurical opportunities[edit]\n",
      "History[edit]\n",
      "Types of entrepreneurship[edit]\n",
      "Entrepreneurial behaviours[edit]\n",
      "Psychological makeup[edit]\n",
      "Entrepreneurship training and education[edit]\n",
      "Recent trends that seek to merge neurosciences into entrepreneurship[edit]\n",
      "Resources and financing[edit]\n",
      "Predictors of success[edit]\n",
      "See also[edit]\n",
      "References[edit]\n",
      "External links[edit]\n",
      "<p>\n",
      " Factors that may predict entrepreneurial success include the following:\n",
      " <sup class=\"reference\" id=\"cite_ref-178\">\n",
      "  <a href=\"#cite_note-178\">\n",
      "   [178]\n",
      "  </a>\n",
      " </sup>\n",
      "</p>\n",
      "\n",
      "\n",
      "\n",
      "Entrepreneurship is the creation or extraction of economic value in ways that generally entail beyond the minimal amount of risk (assumed by a traditional business), and potentially involving values besides simply economic ones.\n",
      "\n",
      "An entrepreneur is an individual who creates and/or invests in one or more businesses, bearing most of the risks and enjoying most of the rewards.[1] The process of setting up a business is known as \"entrepreneurship\". The entrepreneur is commonly seen as an innovator, a source of new ideas, goods, services, and business/or procedures.\n",
      "\n",
      "More narrow definitions have described entrepreneurship as the process of designing, launching and running a new business,  often similar to a small business, or (per Business Dictionary) as the \"capacity and willingness to develop, organize and manage a business venture along with any of its risks to make a profit\".[2] The people who create these businesses are often referred to as \"entrepreneurs\".[3][4] While definitions of entrepreneurship typically focus on the launch and operation of businesses, due to the high risks involved in launching a startup company, a significant proportion of startups have to close (in Mikal Belicove's words) due to \"lack of funding, bad business decisions, government policies, an economic crisis, a lack of market demand, or a combination of all of these.\"[5]\n",
      "\n",
      "In the field of economics, the term entrepreneur is used for an entity which has the ability to translate inventions or technologies into products and services.[6] In this sense, entrepreneurship describes activities on the part of both established firms and new businesses.\n",
      "\n",
      "In the 21st century the governments of nation states have tried to promote entrepreneurship, as well as enterprise culture, in the hope that it would improve or stimulate economic growth and competition. After the end of supply-side economics, entrepreneurship was supposed to boost the economy.[7]\n",
      "\n",
      "As an academic field, entrepreneurship accommodates different schools of thought. It has been studied within disciplines such as management, economics, sociology, and economic history.[8][9] Some view entrepreneurship as allocated to the entrepreneur. These scholars tend to focus on what the entrepreneur does and what traits an entrepreneur has. This is sometimes referred to as the functionalistic approach to entrepreneurship.[10] Others deviate from the individualistic perspective to turn the spotlight on the entrepreneurial process and immerse in the interplay between agency and context. This approach is sometimes referred to as the processual approach,[10] or the contextual turn/approach to entrepreneurship.[11][12]\n",
      "\n",
      "Entrepreneurship includes the creation or extraction of economic value.[13][12][14] It is the act of being an entrepreneur, or the owner or manager of a business enterprise who, by risk and initiative, attempts to make profits.[citation needed] Entrepreneurs act as managers and oversee the launch and growth of an enterprise. Entrepreneurship is the process by which either an individual or a team identifies a business opportunity and acquires and deploys the necessary resources required for its exploitation.\n",
      "\n",
      "In the early 19th century, the French economist Jean-Baptiste Say provided a broad definition of entrepreneurship, saying that it \"shifts economic resources out of an area of lower and into an area of higher productivity and greater yield\". Entrepreneurs create something new and unique—they change or transmute value.\n",
      "\n",
      "Regardless of the firm size, big or small, it can take part in entrepreneurship opportunities. There are four criteria for becoming an entrepreneur. First, there must be opportunities or situations to recombine resources to generate profit. Second, entrepreneurship requires differences between people, such as preferential access to certain individuals or the ability to recognize information about opportunities. Third, taking on a level of risk is a necessity. Fourth, the entrepreneurial process requires the organization of people and resources.[15]\n",
      "\n",
      "An entrepreneur uses their time, energy, and resources to create value for others. They are rewarded for this effort monetarily and therefore both the consumer of the value created and the entrepreneur benefit.\n",
      "\n",
      "The entrepreneur is a factor in and the study of entrepreneurship reaches back to the work of Richard Cantillon and Adam Smith in the late 17th and early 18th centuries. However, entrepreneurship was largely ignored theoretically until the late 19th and early 20th centuries and empirically until a profound resurgence in business and economics since the late 1970s.\n",
      "\n",
      "In the 20th century, the understanding of entrepreneurship owes much to the work of economist Joseph Schumpeter in the 1930s and other Austrian economists such as Carl Menger, Ludwig von Mises and Friedrich von Hayek. According to Schumpeter, an entrepreneur is a person who is willing and able to convert a new idea or invention into a successful innovation. Entrepreneurship employs what Schumpeter called \"the gale of creative destruction\" to replace in whole or in part inferior innovations across markets and industries, simultaneously creating new products, including new business models.\n",
      "\n",
      "It has been argued, that creative destruction is largely responsible for the dynamism of industries and long-run economic growth. The supposition that entrepreneurship leads to economic growth is an interpretation of the residual in endogenous growth theory and as such is debated in academic economics. An alternative description posited by Israel Kirzner suggests that the majority of innovations may be much more incremental improvements such as the replacement of paper with plastic in the making of drinking straws.\n",
      "\n",
      "The exploitation of entrepreneurial opportunities may include:[16]\n",
      "\n",
      "The economist Joseph Schumpeter (1883–1950) saw the role of the entrepreneur in the economy as \"creative destruction\", Which he defined as launching innovations that simultaneously destroy old industries while ushering in new industries and approaches. For Schumpeter, the changes and \"dynamic economic equilibrium brought on by the innovating entrepreneur [were] the norm of a healthy economy\".[17] While entrepreneurship is often associated with new, small, for-profit start-ups, entrepreneurial behavior can be seen in small-, medium- and large-sized firms, new and established firms and in for-profit and not-for-profit organizations, including voluntary-sector groups, charitable organizations and government.[18]\n",
      "\n",
      "Entrepreneurship may operate within an entrepreneurship ecosystem which often includes:\n",
      "\n",
      "In the 2000s, usage of the term \"entrepreneurship\" expanded to include how and why some individuals (or teams) identify opportunities, evaluate them as viable, and then decide to exploit them.[20] The term has also been used to discuss how people might use these opportunities to develop new products or services, launch new firms or industries, and create wealth.[21] The entrepreneurial process is uncertain because opportunities can only be identified after they have been exploited.[22]\n",
      "\n",
      "Entrepreneurs exhibit positive biases towards finding new possibilities and seeing unmet market needs, and a tendency towards risk-taking that makes them more likely to exploit business opportunities.[23][24]\n",
      "\n",
      "\"Entrepreneur\" (/ˌɒ̃trəprəˈnɜːr, -ˈnjʊər/ ⓘ, UK also /-prɛ-/) is a loanword from French. The word first appeared in the French dictionary entitled Dictionnaire Universel de Commerce compiled by Jacques des Bruslons and published in 1723.[25] Especially in Britain, the term \"adventurer\" was often used to denote the same meaning.[26] The study of entrepreneurship reaches back to the work in the late 17th and early 18th centuries of Irish-French economist Richard Cantillon, which was foundational to classical economics. Cantillon defined the term first in his Essai sur la Nature du Commerce en Général, or Essay on the Nature of Trade in General, a book William Stanley Jevons considered the \"cradle of political economy\".[27][28] Cantillon defined the term as a person who pays a certain price for a product and resells it at an uncertain price, \"making decisions about obtaining and using the resources while consequently admitting the risk of enterprise\". Cantillon considered the entrepreneur to be a risk taker who deliberately allocates resources to exploit opportunities to maximize the financial return.[29][30] Cantillon emphasized the willingness of the entrepreneur to assume the risk and to deal with uncertainty, thus he drew attention to the function of the entrepreneur and distinguished between the function of the entrepreneur and the owner who provided the money.[29][31]\n",
      "\n",
      "Jean-Baptiste Say also identified entrepreneurs as a driver for economic development, emphasizing their role as one of the collecting factors of production allocating resources from less to fields that are more productive. Both Say and Cantillon belonged to French school of thought and known as the physiocrats.[32]\n",
      "\n",
      "Dating back to the time of the medieval guilds in Germany, a craftsperson required special permission to operate as an entrepreneur, the small proof of competence (Kleiner Befähigungsnachweis), which restricted training of apprentices to craftspeople who held a Meister certificate. This institution was introduced in 1908 after a period of so-called freedom of trade (Gewerbefreiheit, introduced in 1871) in the German Reich. However, proof of competence was not required to start a business. In 1935 and in 1953, greater proof of competence was reintroduced (Großer Befähigungsnachweis Kuhlenbeck), which required craftspeople to obtain a Meister apprentice-training certificate before being permitted to set up a new business.[33]\n",
      "\n",
      "In the Ashanti Empire, successful entrepreneurs who accumulated large wealth and men as well as distinguished themselves through heroic deeds were awarded social and political recognition by being called \"Abirempon\" which means big men. By the eighteenth and nineteenth centuries AD, the appellation \"Abirempon\" had formalized and politicized to embrace those who conducted trade from which the whole state benefited. The state rewarded entrepreneurs who attained such accomplishments with Mena(elephant tail) which was the \"heraldic badge\"[34]\n",
      "\n",
      "In the 20th century, entrepreneurship was studied by Joseph Schumpeter in the 1930s and by other Austrian economists such as Carl Menger (1840-1921), Ludwig von Mises (1881-1973) and Friedrich von Hayek (1899–1992). While the loan from French of the English-language word \"entrepreneur\" dates to 1762,[35] the word \"entrepreneurism\" dates from 1902[36] and the term \"entrepreneurship\" also first appeared in 1902.[37] According to Schumpeter, an entrepreneur is willing and able to convert a new idea or invention into a successful innovation.[38] Entrepreneurship employs what Schumpeter called the \"gale of creative destruction\"[39]\n",
      "to replace in whole or in part inferior offerings across markets and industries, simultaneously creating new products and new business models,[citation needed] thus creative destruction is largely[quantify] responsible for long-term economic growth. The idea that entrepreneurship leads to economic growth is an interpretation of the residual in endogenous growth theory[clarification needed] and as such continues to be debated in academic economics. An alternative description by Israel Kirzner (1930– ) suggests that the majority of innovations may be incremental improvements – such as the replacement of paper with plastic in the construction of a drinking straw – that require no special qualities.\n",
      "\n",
      "For Schumpeter, entrepreneurship resulted in new industries and in new combinations of currently existing inputs. Schumpeter's initial example of this was the combination of a steam engine and then current wagon-making technologies to produce the horseless carriage. In this case, the innovation (i.e. the car) was transformational but did not require the development of dramatic new technology. It did not immediately replace the horse-drawn carriage, but in time incremental improvements reduced the cost and improved the technology, leading to the modern auto industry. Despite Schumpeter's early 20th-century contributions, traditional microeconomic theory did not formally consider the entrepreneur in its theoretical frameworks (instead of assuming that resources would find each other through a price system). In this treatment, the entrepreneur was an implied but unspecified actor, consistent with the concept of the entrepreneur being the agent of x-efficiency.\n",
      "\n",
      "For Schumpeter, the entrepreneur did not bear risk: the capitalist did. Schumpeter believed that the equilibrium was imperfect. Schumpeter (1934) demonstrated that the changing environment continuously provides new information about the optimum allocation of resources to enhance profitability. Some individuals acquire the new information before others and recombine the resources to gain an entrepreneurial profit. Schumpeter was of the opinion that entrepreneurs shift the production-possibility curve to a higher level using innovations.[40]\n",
      "\n",
      "Initially, economists made the first attempt[when?] to study the entrepreneurship concept in depth.[41] Alfred Marshall viewed the entrepreneur as a multi-tasking capitalist and observed that in the equilibrium of a completely competitive market there was no spot for \"entrepreneurs\" as economic-activity creators.[42]\n",
      "\n",
      "Changes in politics and society in Russia and China the late-20th century saw a flowering of entrepreneurial activity, producing Russian oligarchs[43]\n",
      "and Chinese millionaires.[44]\n",
      "\n",
      "In the 2000s, entrepreneurship was extended from its origins in for-profit businesses to include social entrepreneurship, in which business goals are sought alongside social, environmental or humanitarian goals and even the concept of the political entrepreneur.[according to whom?] Entrepreneurship within an existing firm or large organization has been referred to as intrapreneurship and may include corporate ventures where large entities \"spin-off\" subsidiary organizations.[45]\n",
      "\n",
      "Entrepreneurs are leaders willing to take risk and exercise initiative, taking advantage of market opportunities by planning, organizing and deploying resources,[46] often by innovating to create new or improving existing products or services.[47] In the 2000s, the term \"entrepreneurship\" has been extended to include a specific mindset resulting in entrepreneurial initiatives, e.g. in the form of social entrepreneurship, political entrepreneurship or knowledge entrepreneurship.[citation needed]\n",
      "\n",
      "According to Paul Reynolds, founder of the Global Entrepreneurship Monitor, \"by the time they reach their retirement years, half of all working men in the United States probably have a period of self-employment of one or more years; one in four may have engaged in self-employment for six or more years. Participating in a new business creation is a common activity among U.S. workers over the course of their careers\".[48] In recent years, entrepreneurship has been claimed as a major driver of economic growth in both the United States and Western Europe.[citation needed]\n",
      "\n",
      "Entrepreneurial activities differ substantially depending on the type of organization and creativity involved. Entrepreneurship ranges in scale from solo, part-time projects to large-scale undertakings that involve a team and which may create many jobs. Many \"high value\" entrepreneurial ventures seek venture capital or angel funding (seed money) to raise capital for building and expanding the business.[49] Many organizations exist to support would-be entrepreneurs, including specialized government agencies, business incubators (which may be for-profit, non-profit, or operated by a college or university), science parks and non-governmental organizations, which include a range of organizations including not-for-profits, charities, foundations and business advocacy groups (e.g. Chambers of commerce). Beginning in 2008, an annual \"Global Entrepreneurship Week\" event aimed at \"exposing people to the benefits of entrepreneurship\" and getting them to \"participate in entrepreneurial-related activities\" was launched.[who?]\n",
      "\n",
      "The term \"entrepreneur\" is often conflated with the term \"small business\" or used interchangeably with this term. While most entrepreneurial ventures start out as a small business, not all small businesses are entrepreneurial in the strict sense of the term. Many small businesses are sole proprietor operations consisting solely of the owner—or they have a small number of employees—and many of these small businesses offer an existing product, process or service and they do not aim at growth. In contrast, entrepreneurial ventures offer an innovative product, process or service and the entrepreneur typically aims to scale up the company by adding employees, seeking international sales and so on, a process which is financed by venture capital and angel investments. In this way, the term \"entrepreneur\" may be more closely associated with the term \"startup\". Successful entrepreneurs have the ability to lead a business in a positive direction by proper planning, to adapt to changing environments and understand their own strengths and weaknesses.[50]\n",
      "\n",
      "A 2002 survey of 58 business history professors gave the top spots in American business history to Henry Ford, followed by Bill Gates; John D. Rockefeller; Andrew Carnegie, and Thomas Edison.  They were followed by Sam Walton; J. P. Morgan; Alfred P. Sloan; Walt Disney; Ray Kroc; Thomas J. Watson; Alexander Graham Bell; Eli Whitney; James J. Hill; Jack Welch; Cyrus McCormick; David Packard; Bill Hewlett; Cornelius Vanderbilt; and George Westinghouse.[51] A 1977 survey of management scholars reported the top five pioneers in management ideas were: Frederick Winslow Taylor; Chester Barnard; Frank Bunker Gilbreth Sr.; Elton Mayo; and Lillian Moller Gilbreth.[52]\n",
      "\n",
      "According to Christopher Rea and Nicolai Volland, cultural entrepreneurship is \"practices of individual and collective agency characterized by mobility between cultural professions and modes of cultural production\", which refers to creative industry activities and sectors. In their book The Business of Culture (2015), Rea and Volland identify three types of cultural entrepreneur: \"cultural personalities\", defined as \"individuals who buil[d] their own personal brand of creativity as a cultural authority and leverage it to create and sustain various cultural enterprises\"; \"tycoons\", defined as \"entrepreneurs who buil[d] substantial clout in the cultural sphere by forging synergies between their industrial, cultural, political, and philanthropic interests\"; and \"collective enterprises\", organizations which may engage in cultural production for profit or not-for-profit purposes.[53]\n",
      "\n",
      "In the 2000s, story-telling has emerged as a field of study in cultural entrepreneurship. Some have argued that entrepreneurs should be considered \"skilled cultural operators\"[54] that use stories to build legitimacy, and seize market opportunities and new capital.[55][56][57] Others have concluded that we need to speak of a 'narrative turn' in cultural entrepreneurship research.[58]\n",
      "\n",
      "The term \"ethnic entrepreneurship\" refers to self-employed business owners who belong to racial or ethnic minority groups in the United States and Europe.[citation needed] A long tradition of academic research explores the experiences and strategies of ethnic entrepreneurs as they strive to integrate economically into mainstream U.S. or European society. Classic cases include Jewish merchants and tradespeople in large U.S. cities in the 19th and early 20th centuries as well as Chinese and Japanese small business owners (restaurants, farmers, shop owners) on the West Coast.[59] In the 2010s, ethnic entrepreneurship has been studied in the case of Cuban business owners in Miami, Indian motel owners of the U.S. and Chinese business owners in Chinatowns across the United States. While entrepreneurship offers these groups many opportunities for economic advancement, self-employment and business ownership in the United States remain unevenly distributed along racial/ethnic lines.[60] Despite numerous success stories of Asian entrepreneurs, a recent statistical analysis of U.S. census data shows that whites are more likely than Asians, African-Americans and Latinos to be self-employed in high prestige, lucrative industries.[60]\n",
      "\n",
      "Religious entrepreneurship refers to both the use of entrepreneurship to pursue religious ends as well as how religion impacts entrepreneurial pursuits. While religion is a central topic in society, it is largely overlooked in entrepreneurship research.[61] The inclusion of religion may transform entrepreneurship including a focus on opportunities other than profit as well as practices, processes and purpose of entrepreneurship.[62][63] Gümüsay suggests a three pillars model to explain religious entrepreneurship: The pillars are the entrepreneurial, socio-economic/ethical, and religio-spiritual in the pursuit of value, values, and the metaphysical.[64]\n",
      "\n",
      "A feminist entrepreneur is an individual who applies feminist values and approaches through entrepreneurship, with the goal of improving the quality of life and well-being of girls and women.[65] Many are doing so by creating \"for women, by women\" enterprises. Feminist entrepreneurs are motivated to enter commercial markets by desire to create wealth and social change, based on the ethics of cooperation, equality and mutual respect.[66][67] These endeavours can have the effect of both empowerment and emancipation.[68]\n",
      "\n",
      "The American-born British economist Edith Penrose has highlighted the collective nature of entrepreneurship. She mentions that in modern organizations, human resources need to be combined to better capture and create business opportunities.[69] The sociologist Paul DiMaggio (1988:14) has expanded this view to say that \"new institutions arise when organized actors with sufficient resources [institutional entrepreneurs] see in them an opportunity to realize interests that they value highly\".[70] The notion has been widely applied.[71][72][73][74]\n",
      "\n",
      "The term \"millennial entrepreneur\" refers to a business owner who is affiliated with millennials (also known as Generation Y), those people born from approximately 1981 to 1996.[75] The offspring of baby boomers and early Gen Xers,[76] this generation was brought up using digital technology and mass media. Millennial business owners are well-equipped with knowledge of new technology and new business models and have a strong grasp of its business applications. There have been many breakthrough businesses that have come from millennial entrepreneurs such as Mark Zuckerberg, who created Facebook.[77] Despite the expectation of millennial success, there have been recent studies that have proven this to not be the case.  The comparison between millennials who are self-employed and those who are not self-employed shows that the latter is higher. The reason for this is because they have grown up in a different generation and attitude than their elders. Some of the barriers to entry for entrepreneurs are the economy, debt from schooling, and the challenges of regulatory compliance.[78]\n",
      "\n",
      "A nascent entrepreneur is someone in the process of establishing a business venture.[79] In this observation, the nascent entrepreneur can be seen as pursuing an opportunity, i.e. a possibility to introduce new services or products, serve new markets, or develop more efficient production methods in a profitable manner.[80][81] But before such a venture is actually established, the opportunity is just a venture idea.[82] In other words, the pursued opportunity is perceptual in nature, propped by the nascent entrepreneur's personal beliefs about the feasibility of the venturing outcomes the nascent entrepreneur seeks to achieve.[83][84][85] Its prescience and value cannot be confirmed ex ante but only gradually, in the context of the actions that the nascent entrepreneur undertakes towards establishing the venture as described in Saras Sarasvathy's theory of Effectuation,[86] Ultimately, these actions can lead to a path that the nascent entrepreneur deems no longer attractive or feasible, or result in the emergence of a (viable) business. In this sense, over time, the nascent venture can move towards being discontinued or towards emerging successfully as an operating entity.\n",
      "\n",
      "The distinction between the novice, serial and portfolio entrepreneurs is an example of behavior-based categorization.[87] Other examples are the (related) studies by,[88][89] on start-up event sequences.  Nascent entrepreneurship that emphasizes the series of activities involved in new venture emergence,[90][91][92] rather than the solitary act of exploiting an opportunity. Such research will help separate entrepreneurial action into its basic sub-activities and elucidate the inter-relationships between activities, between an activity (or sequence of activities) and an individual's motivation to form an opportunity belief, and between an activity (or sequence of activities) and the knowledge needed to form an opportunity belief. With this research, scholars will be able to begin constructing a theory of the micro-foundations of entrepreneurial action.\n",
      "\n",
      "Scholars interested in nascent entrepreneurship tend to focus less on the single act of opportunity exploitation and more on the series of actions in new venture emergence,[90][93][92] Indeed, nascent entrepreneurs undertake numerous entrepreneurial activities, including actions that make their businesses more concrete to themselves and others. For instance, nascent entrepreneurs often look for and purchase facilities and equipment; seek and obtain financial backing, form legal entities, organize teams; and dedicate all their time and energy to their business[94]\n",
      "\n",
      "Project entrepreneurs are individuals who are engaged in the repeated assembly or creation of temporary organizations.[95] These are organizations that have limited lifespans which are devoted to producing a singular objective or goal and get disbanded rapidly when the project ends. Industries where project-based enterprises are widespread include: sound recording, film production, software development, television production, new media and construction.[96] What makes project-entrepreneurs distinctive from a theoretical standpoint is that they have to \"rewire\" these temporary ventures and modify them to suit the needs of new project opportunities that emerge. A project entrepreneur who used a certain approach and team for one project may have to modify the business model or team for a subsequent project.\n",
      "\n",
      "Project entrepreneurs are exposed repeatedly to problems and tasks typical of the entrepreneurial process.[97] Indeed, project-based entrepreneurs face two critical challenges that invariably characterize the creation of a new venture: locating the right opportunity to launch the project venture and assembling the most appropriate team to exploit that opportunity. Resolving the first challenge requires project-entrepreneurs to access an extensive range of information needed to seize new investment opportunities. Resolving the second challenge requires assembling a collaborative team that has to fit well with the particular challenges of the project and has to function almost immediately to reduce the risk that performance might be adversely affected. Another type of project entrepreneurship involves entrepreneurs working with business students to get analytical work done on their ideas.\n",
      "\n",
      "Social entrepreneurship is the use of the by start up companies and other entrepreneurs to develop, fund and implement solutions to social, cultural, or environmental issues.[98] This concept may be applied to a variety of organizations with different sizes, aims, and beliefs.[99] For-profit entrepreneurs typically measure performance using business metrics like profit, revenues and increases in stock prices, but social entrepreneurs are either non-profits or blend for-profit goals with generating a positive \"return to society\" and therefore must use different metrics. Social entrepreneurship typically attempts to further broad social, cultural, and environmental goals often associated with the voluntary sector[100] in areas such as poverty alleviation, health care[101] and community development. At times, profit-making social enterprises may be established to support the social or cultural goals of the organization but not as an end in itself. For example, an organization that aims to provide housing and employment to the homeless may operate a restaurant, both to raise money and to provide employment for the homeless people.\n",
      "\n",
      "Biosphere entrepreneurship is \"entrepreneurial activity that generates value for the biosphere and ecosystem services.\"[102] It is part of a larger trend of business schools seeking to incorporate environmental topics more actively into their curricula.[103]\n",
      "\n",
      "The entrepreneur is commonly seen as an innovator—a designer of new ideas and business processes.[104] Management skills and strong team building abilities are often perceived as essential leadership attributes for successful entrepreneurs.[105][unreliable source] Political economist Robert Reich considers leadership, management ability and team-building to be essential qualities of an entrepreneur.[106][107]\n",
      "\n",
      "Theorists Frank Knight[108] and Peter Drucker defined entrepreneurship in terms of risk-taking. The entrepreneur is willing to put his or her career and financial security on the line and take risks in the name of an idea, spending time as well as capital on an uncertain venture. However, entrepreneurs often do not believe that they have taken an enormous amount of risks because they do not perceive the level of uncertainty to be as high as other people do. Knight classified three types of uncertainty:\n",
      "\n",
      "Entrepreneurship is often associated with true uncertainty, particularly when it involves the creation of a novel good or service, for a market that did not previously exist, rather than when a venture creates an incremental improvement to an existing product or service. A 2014 study at ETH Zürich found that compared with typical managers, entrepreneurs showed higher decision-making efficiency and a stronger activation in regions of frontopolar cortex (FPC) previously associated with explorative choice.[109]\n",
      "\n",
      "The ability of entrepreneurs to work closely with and take advice from early investors and other partners (i.e. their coachability) has long been considered a critical factor in entrepreneurial success.[110] At the same time, economists have argued that entrepreneurs should not simply act on all advice given to them, even when that advice comes from well-informed sources, because entrepreneurs possess far deeper and richer local knowledge about their own firm than any outsider. Indeed, measures of coachability are not actually predictive of entrepreneurial success (e.g. measured as success in subsequent funding rounds, acquisitions, pivots and firm survival). This research also shows that older and larger founding teams, presumably those with more subject expertise, are less coachable than younger and smaller founding teams.[citation needed]\n",
      "\n",
      "Strategies that entrepreneurs may use include:\n",
      "\n",
      "According to Shane and Venkataraman, entrepreneurship comprises both \"enterprising individuals\" and \"entrepreneurial opportunities\", so researchers should study the nature of the individuals who identify opportunities when others do not, the opportunities themselves and the nexus between individuals and opportunities.[113] On the other hand, Reynolds et al.[114] argue that individuals are motivated to engage in entrepreneurial endeavours driven mainly by necessity or opportunity, that is individuals pursue entrepreneurship primarily owing to survival needs, or because they identify business opportunities that satisfy their need for achievement. For example, higher economic inequality tends to increase necessity-based entrepreneurship rates at the individual level.[115]\n",
      "\n",
      "One study has found that certain genes affecting personality may influence the income of self-employed people.[116] Some people may be able to use[weasel words] \"an innate ability\" or quasi-statistical sense to gauge public opinion[117] and market demand for new products or services. Entrepreneurs tend to have the ability to see unmet market needs and underserved markets. While some entrepreneurs assume they can sense and figure out what others are thinking, the mass media plays a crucial role in shaping views and demand.[118] Ramoglou argues that entrepreneurs are not that distinctive and that it is essentially poor conceptualizations of \"non-entrepreneurs\" that maintain laudatory portraits of \"entrepreneurs\" as exceptional innovators or leaders[119][120] Entrepreneurs are often overconfident, exhibit illusion of control, when they are opening/expanding business or new products/services.[23]\n",
      "\n",
      "Differences in entrepreneurial organizations often partially reflect their founders' heterogenous identities. Fauchart and Gruber have classified entrepreneurs into three main types: Darwinians, communitarians and missionaries. These types of entrepreneurs diverge in fundamental ways in their self-views, social motivations and patterns of new firm creation.[121]\n",
      "\n",
      "Entrepreneurs must practice effective communication both within their firm and with external partners and investors to launch and grow a venture and enable it to survive. An entrepreneur needs a communication system that links the staff of her firm and connects the firm to outside firms and clients. Entrepreneurs should be charismatic leaders, so they can communicate a vision effectively to their team and help to create a strong team. Communicating a vision to followers may be the most important act of the transformational leader.[122] Compelling visions provide employees with a sense of purpose and encourage commitment. According to Baum et al.[123] and Kouzes and Posner,[124] the vision must be communicated through written statements and through in-person communication. Entrepreneurial leaders must speak and listen to articulate their vision to others.[125]\n",
      "\n",
      "Communication is pivotal in the role of entrepreneurship because it enables leaders to convince potential investors, partners and employees about the feasibility of a venture.[126] Entrepreneurs need to communicate effectively to shareholders.[127] Nonverbal elements in speech such as the tone of voice, the look in the sender's eyes, body language, hand gestures and state of emotions are also important communication tools. The Communication Accommodation Theory posits that throughout communication people will attempt to accommodate or adjust their method of speaking to others.[128] Face Negotiation Theory describes how people from different cultures manage conflict negotiation to maintain \"face\".[129] Hugh Rank's \"intensify and downplay\" communications model can be used by entrepreneurs who are developing a new product or service. Rank argues that entrepreneurs need to be able to intensify the advantages of their new product or service and downplay the disadvantages to persuade others to support their venture.[130]\n",
      "\n",
      "Research from 2014 found links between entrepreneurship and historical sea piracy. In this context, the claim is made for a non-moral approach to looking at the history of piracy as a source of inspiration for entrepreneurship education[131] as well as for research in entrepreneurship[132] and business model generation.[133]\n",
      "\n",
      "Ross Levine, an economist at the University of California, Berkeley, and Yona Rubinstein, a professor at the London School of Economics released a study which suggests entrepreneurs are disproportionately white, male, from wealthy and highly educated backgrounds, and prone to \"aggressive, illicit, risk-taking activities\" as teenagers and young adults. Entrepreneurs also performed above average on aptitude tests.[134] This masculine image is also found when studying how male entrepreneurs are represented in media. A supporting but invisible family are one of the success factors when being portrayed as a male entrepreneur in media.[135] A study conducted by the Census Bureau and two MIT professors, after compiling a list of 2.7 million company founders who hired at least one employee between 2007 and 2014, found the average age of a successful start-up founder when he or she founded it is 45. They consistently found chances of entrepreneurial success rises with age.[136][137]\n",
      "\n",
      "Stanford University economist Edward Lazear found in a 2005 study that variety in education and in work experience was the most important trait that distinguished entrepreneurs from non-entrepreneurs[138] A 2013 study by Uschi Backes-Gellner of the University of Zurich and Petra Moog of the University of Siegen in Germany found that a diverse social network was also an important characteristic of students that would go on to become entrepreneurs.[139][140]\n",
      "\n",
      "Studies show that the psychological propensities for male and female entrepreneurs are more similar than different. Empirical studies suggest that female entrepreneurs possess strong negotiating skills and consensus-forming abilities.[141] Åsa Hansson, who looked at empirical evidence from Sweden, found that the probability of becoming self-employed decreases with age for women, but increases with age for men.[142] She also found that marriage increased the probability of a person's becoming an entrepreneur.[142]\n",
      "\n",
      "Jesper Sørensen wrote in 2010 that significant influences on the decision to become an entrepreneur include workplace peers and social composition. Sørensen discovered a correlation between working with former entrepreneurs and how often these individuals become entrepreneurs themselves, compared to those who did not work with entrepreneurs.[143] Social composition can influence entrepreneurialism in peers by demonstrating the possibility for success, stimulating a \"He can do it, why can't I?\" attitude. As Sørensen stated: \"When you meet others who have gone out on their own, it doesn't seem that crazy.\"[144]\n",
      "\n",
      "Entrepreneurs may also be driven to entrepreneurship by past experiences. If someone has faced multiple work stoppages or has been unemployed in the past, the probability of becoming an entrepreneur increases[142] Per Cattell's personality framework, both personality traits and attitudes are thoroughly investigated by psychologists. However, in case of entrepreneurship research these notions are employed by academics[which?] too, but vaguely. Cattell states that personality is a system that is related to the environment and further adds that the system seeks explanation to the complex transactions conducted by both—traits and attitudes. This is because both of them bring about change and growth in a person. Personality is that which informs what an individual will do when faced with a given situation. A person's response is triggered by his/her personality and the situation that is faced.[145]\n",
      "\n",
      "Innovative entrepreneurs may be more likely to experience what psychologist Mihaly Csikszentmihalyi calls \"flow\". \"Flow\" occurs when an individual forgets about the outside world due to being thoroughly engaged in a process or activity. Csikszentmihalyi suggested that breakthrough innovations tend to occur at the hands of individuals in that state.[146] Other research has concluded that a strong internal motivation is a vital ingredient for breakthrough innovation.[147] Flow can be compared to Maria Montessori's concept of normalization, a state that includes a child's capacity for joyful and lengthy periods of intense concentration.[148] Csikszentmihalyi acknowledged that Montessori's prepared environment offers children opportunities to achieve flow.[149] Thus quality and type of early education may influence entrepreneurial capability.[citation needed]\n",
      "\n",
      "Research on high-risk settings such as oil platforms, investment banking, medical surgery, aircraft piloting and nuclear-power plants has related distrust to failure avoidance.[150] When non-routine strategies are needed, distrusting persons perform better, while when routine strategies are needed trusting persons perform better. Gudmundsson and Lechner extended this research to entrepreneurial firms.[151] They argued that in entrepreneurial firms the threat of failure is ever-present, resembling non-routine situations in high-risk settings. They found that the firms of distrusting entrepreneurs were more likely to survive than the firms of optimistic or overconfident entrepreneurs. The reasons were that distrusting entrepreneurs would emphasize failure-avoidance through sensible task selection and more analysis. Kets de Vries has pointed out that distrusting entrepreneurs are more alert about their external environment.[152] He concluded that distrusting entrepreneurs are less likely to discount negative events and are more likely to engage control mechanisms. Similarly, Gudmundsson and Lechner found that distrust leads to higher precaution and therefore increases chances of entrepreneurial-firm survival.\n",
      "\n",
      "Researchers Schoon and Duckworth completed a study in 2012 that could potentially help identify who may become an entrepreneur at an early age. They determined that the best measures to identify a young entrepreneur are family and social status, parental role-modelling, entrepreneurial competencies at age 10, academic attainment at age 10, generalized self-efficacy, social skills, entrepreneurial intention and experience of unemployment.[153]\n",
      "\n",
      "Some scholars have constructed an operational definition of a more specific subcategory called \"Strategic Entrepreneurship\". Closely tied with principles of strategic management, this form of entrepreneurship is \"concerned about growth, creating value for customers and subsequently creating wealth for owners\".[154] A 2011 article for the Academy of Management provided a three-step, \"Input-Process-Output\" model of strategic entrepreneurship. The model's three steps entail the collection of different resources, the process of orchestrating them in the necessary manner and the subsequent creation of competitive advantage, value for customers, wealth and other benefits. Through the proper use of strategic management/leadership techniques and the implementation of risk-bearing entrepreneurial thinking, the strategic entrepreneur is, therefore, able to align resources to create value and wealth.[154]\n",
      "\n",
      "Leadership in entrepreneurship can be defined as \"process of social influence in which one person can enlist the aid and support of others in the accomplishment of a common task\"[155] in \"one who undertakes innovations, finance and business acumen in an effort to transform innovations into economic goods\".[156][page needed]\n",
      "\n",
      "This refers to not only the act of entrepreneurship as managing or starting a business, but how one manages to do so by these social processes, or leadership skills. (Entrepreneurship in itself can be defined somewhat circularly as \"the process by which individuals, teams, or organizations identify and pursue entrepreneurial opportunities without being immediately constrained by the resources they currently control\".[157]) An entrepreneur typically has a mindset that seeks out potential opportunities during uncertain times.[157] An entrepreneur must have leadership skills or qualities to see potential opportunities and act upon them.[citation needed] At the core, an entrepreneur is a decision-maker.[citation needed] Such decisions often affect an organization as a whole, which is representative of entrepreneurial leadership within the organization.[citation needed]\n",
      "\n",
      "With the growing global market and increasing technology use throughout all industries, the core of entrepreneurship and the decision-making has become an ongoing process rather than isolated incidents.[citation needed] This becomes knowledge management,[citation needed] which is \"identifying and harnessing intellectual assets\" for organizations to \"build on past experiences and create new mechanisms for exchanging and creating knowledge\".[158] This belief[which?] draws upon a leader's past experiences that may prove useful. It is a common mantra for one to learn from their past mistakes, so leaders should take advantage of their failures for their benefit.[citation needed] This is how one may take their experiences as a leader for the use in the core of entrepreneurship decision-making.[citation needed]\n",
      "\n",
      "The majority of scholarly research done on these topics has taken place in North America.[159] Words like \"leadership\" and \"entrepreneurship\" do not always translate well into other cultures and languages. For example, in North America a leader is often thought of as charismatic, but German culture frowns on such charisma due to the charisma of Nazi leader Adolf Hitler (1889–1945). Other cultures, as in some European countries, view the term \"leader\" negatively, like the French.[160][need quotation to verify]\n",
      "The participative leadership style that is prevalent in the United States is considered disrespectful in many other parts of the world due to the differences in power distance.[161] Many Asian and Middle Eastern countries do not have \"open door\" policies for subordinates, who would never informally approach their managers/bosses. For countries like that, an authoritarian approach to management and leadership is more customary.[citation needed]\n",
      "\n",
      "Despite cultural differences, the successes and failures of entrepreneurs can be traced to how leaders adapt to local conditions.[162] Within the increasingly global business environment a successful leader must be able to adapt and have insight into other cultures. To respond to the environment, corporate visions are becoming transnational in nature, to enable the organization to operate in or provide services/goods for other cultures.[163]\n",
      "\n",
      "Michelacci and Schivardi are a pair of researchers who believe that identifying and comparing the relationships between an entrepreneur's earnings and education level would determine the rate and level of success. Their study focused on two education levels, college degree and post-graduate degree. While Michelacci and Schivardi do not specifically determine characteristics or traits for successful entrepreneurs, they do believe that there is a direct relationship between education and success, noting that having a college knowledge does contribute to advancement in the workforce.[164]\n",
      "\n",
      "Michelacci and Schivardi state there has been a rise in the number of self-employed people with a baccalaureate degree. However, their findings also show that those who are self-employed and possess a graduate degree has remained consistent throughout time at about 33 percent. They briefly mention those famous entrepreneurs like Steve Jobs and Mark Zuckerberg who were college dropouts, but they call these cases all but exceptional as it is a pattern that many entrepreneurs view formal education as costly, mainly because of the time that needs to be spent on it. In the 21st century, a young Danish entrepreneur, Maniyar, had become famous while perusing his Bachelors of Pharmacy. There are few entrepreneurs that are also college dropouts, like Mark Zuckerberg however, Maniyar's ability and volition while studying would allow him to create a functioning business.[10] Michelacci and Schivardi believe that for an individual to reach the full success they need to have education beyond high school. Their research shows that the higher the education level the greater the success. The reason is that college gives people additional skills that can be used within their business and to operate on a higher level than someone who only \"runs\" it.[164]\n",
      "\n",
      "Currently it refers to the concept of \"Entrepreneurial Enhancement\", which refers to \"the progressive improvement of cognitive, affective and conative skills in potential entrepreneurs or existing ones using appropriate neurotechnologies\". The term has been coined by engineer Víctor Pérez Centeno, in relation to the need to fuse neurotechnologies in research, education and the empowerment of entrepreneurial performance\".[165][166]\n",
      "\n",
      "An entrepreneurial resource is any company-owned asset that has economic value creating capabilities. Economic value creating both tangible and intangible sources are considered as entrepreneurial resources. Their economic value is generating activities or services through mobilization by entrepreneurs.[167] Entrepreneurial resources can be divided into two fundamental categories: tangible and intangible resources.[168]\n",
      "\n",
      "Tangible resources are material sources such as equipment, building, furniture, land, vehicle, machinery, stock, cash, bond and inventory that has a physical form and can be quantified. On the contrary, intangible resources are nonphysical or more challenging to identify and evaluate, and they possess more value creating capacity such as human resources including skills and experience in a particular field, organizational structure of the company, brand name, reputation, entrepreneurial networks that contribute to promotion and financial support, know-how, intellectual property including both copyrights, trademarks and patents.[169][170]\n",
      "\n",
      "At least early on, entrepreneurs often \"bootstrap-finance\" their start-up rather than seeking external investors from the start. One of the reasons that some entrepreneurs prefer to \"bootstrap\" is that obtaining equity financing requires the entrepreneur to provide ownership shares to the investors. If the start-up becomes successful later on, these early equity financing deals could provide a windfall for the investors and a huge loss for the entrepreneur. If investors have a significant stake in the company, they may as well be able to exert influence on company strategy, chief executive officer (CEO) choice and other important decisions. This is often problematic since the investor and the founder might have different incentives regarding the long-term goal of the company. An investor will generally aim for a profitable exit and therefore promotes a high-valuation sale of the company or IPO to sell their shares. Whereas the entrepreneur might have philanthropic intentions as their main driving force. Soft values like this might not go well with the short-term pressure on yearly and quarterly profits that publicly traded companies often experience from their owners.[171]\n",
      "\n",
      "One consensus definition of bootstrapping sees it as \"a collection of methods used to minimize the amount of outside debt and equity financing needed from banks and investors\".[172]\n",
      "\n",
      "Bootstrapping methods include:[173]\n",
      "\n",
      "Many businesses need more capital than can be provided by the owners themselves. In this case, a range of options is available including a wide variety of private and public equity, debt and grants. Private equity options include:\n",
      "\n",
      "Debt options open to entrepreneurs include:\n",
      "\n",
      "Grant options open to entrepreneurs include:\n",
      "\n",
      "Entrepreneurs are faced with liquidity constraints and often lack the necessary credit needed to borrow large amounts of money to finance their venture.[174] Because of this, many studies have been done on the effects of taxes on entrepreneurs. The studies fall into two camps: the first camp finds that taxes help and the second argues that taxes hurt entrepreneurship.[citation needed]\n",
      "\n",
      "Cesaire Assah Meh found that corporate taxes create an incentive to become an entrepreneur to avoid double taxation.[174] Donald Bruce and John Deskins found literature suggesting that a higher corporate tax rate may reduce a state's share of entrepreneurs.[175] They also found that states with an inheritance or estate tax tend to have lower entrepreneurship rates when using a tax-based measure.[175] However, another study found that states with a more progressive personal income tax have a higher percentage of sole proprietors in their workforce.[176] Ultimately, many studies find that the effect of taxes on the probability of becoming an entrepreneur is small. Donald Bruce and Mohammed Mohsin found that it would take a 50 percentage point drop in the top tax rate to produce a one percent change in entrepreneurial activity.[177]\n",
      "\n",
      "Factors that may predict entrepreneurial success include the following:[178]\n",
      "\n"
     ]
    }
   ],
   "source": [
    "import urllib.request  \n",
    "\n",
    "# Fetching the content from the Wikipedia URL\n",
    "get_data = urllib.request.urlopen('https://en.wikipedia.org/wiki/Entrepreneurship')\n",
    "read_page = get_data.read()\n",
    "#Parse the text data \n",
    "\n",
    "#Parsing the URL content and storng the page text\n",
    "parse_page = BeautifulSoup(read_page,'html.parser')\n",
    "\n",
    "#Returning all the <h2> tags\n",
    "for sub_heading in parse_page.find_all('h2'):\n",
    "    print(sub_heading.text)\n",
    "\n",
    "\n",
    "#Returning all the <p> tags\n",
    "paragraphs = parse_page.find_all('p')\n",
    "page_content = ''\n",
    "\n",
    "#Looping each paragraphs and add them to the variable\n",
    "for p in paragraphs:  \n",
    "    page_content += p.text\n",
    "    \n",
    "print(p.prettify())\n",
    "\n",
    "#Looping each paragraph and add them to the variable after prettifying\n",
    "\n",
    "for p in paragraphs:  \n",
    "    page_content += p.text\n",
    "    print(p.get_text())"
   ]
  },
  {
   "cell_type": "code",
   "execution_count": null,
   "id": "d797fbc1",
   "metadata": {},
   "outputs": [],
   "source": []
  },
  {
   "cell_type": "code",
   "execution_count": null,
   "id": "795fe0fb",
   "metadata": {},
   "outputs": [],
   "source": []
  },
  {
   "cell_type": "markdown",
   "id": "d98f1c19",
   "metadata": {},
   "source": [
    "**LinkedIn API Job Search**"
   ]
  },
  {
   "cell_type": "code",
   "execution_count": 49,
   "id": "06942133",
   "metadata": {},
   "outputs": [],
   "source": [
    "import requests\n",
    "import math\n",
    "import pandas as pd\n",
    "\n",
    "l=[]\n",
    "o={}\n",
    "k=[]\n",
    "headers={\"User-Agent\":\"Mozilla/5.0 (Windows NT 10.0; Win64; x64) AppleWebKit/537.36 (KHTML, like Gecko) Chrome/107.0.0.0 Safari/537.36\"}\n",
    "target_url='https://www.linkedin.com/jobs-guest/jobs/api/seeMoreJobPostings/search?keywords=Python%20%28Programming%20Language%29&location=Las%20Vegas%2C%20Nevada%2C%20United%20States&geoId=100293800&currentJobId=3415227738&start={}'"
   ]
  },
  {
   "cell_type": "code",
   "execution_count": 50,
   "id": "298b63a6",
   "metadata": {},
   "outputs": [
    {
     "name": "stdout",
     "output_type": "stream",
     "text": [
      "0\n",
      "10\n",
      "10\n",
      "0\n",
      "0\n"
     ]
    }
   ],
   "source": [
    "#looking at 5 pages of jobs\n",
    "for i in range(0,math.ceil(117/25)):\n",
    "    res = requests.get(target_url.format(i))\n",
    "    soup=BeautifulSoup(res.text,'html.parser')\n",
    "    alljobs_on_this_page=soup.find_all(\"li\")\n",
    "    print(len(alljobs_on_this_page))\n",
    "    for x in range(0,len(alljobs_on_this_page)):\n",
    "        jobid = alljobs_on_this_page[x].find(\"div\",{\"class\":\"base-card\"}).get('data-entity-urn').split(\":\")[3]\n",
    "        l.append(jobid)"
   ]
  },
  {
   "cell_type": "code",
   "execution_count": 51,
   "id": "b183c2ef",
   "metadata": {},
   "outputs": [],
   "source": [
    "target_url='https://www.linkedin.com/jobs-guest/jobs/api/jobPosting/{}'"
   ]
  },
  {
   "cell_type": "code",
   "execution_count": 52,
   "id": "33c71f21",
   "metadata": {},
   "outputs": [],
   "source": [
    "for j in range(0,len(l)):\n",
    "    resp = requests.get(target_url.format(l[j]))\n",
    "    soup=BeautifulSoup(resp.text,'html.parser')\n",
    "    try:\n",
    "        o[\"company\"]=soup.find(\"div\",{\"class\":\"top-card-layout__card\"}).find(\"a\").find(\"img\").get('alt')\n",
    "    except:\n",
    "        o[\"company\"]=None\n",
    "    try:\n",
    "        o[\"job-title\"]=soup.find(\"div\",{\"class\":\"top-card-layout__entity-info\"}).find(\"a\").text.strip()\n",
    "    except:\n",
    "        o[\"job-title\"]=None\n",
    "    try:\n",
    "        o[\"level\"]=soup.find(\"ul\",{\"class\":\"description__job-criteria-list\"}).find(\"li\").text.replace(\"Seniority level\",\"\").strip()\n",
    "    except:\n",
    "        o[\"level\"]=None\n",
    "    k.append(o)\n",
    "    o={}"
   ]
  },
  {
   "cell_type": "code",
   "execution_count": 53,
   "id": "c19a078b",
   "metadata": {},
   "outputs": [
    {
     "data": {
      "text/plain": [
       "list"
      ]
     },
     "execution_count": 53,
     "metadata": {},
     "output_type": "execute_result"
    }
   ],
   "source": [
    "type(k)"
   ]
  },
  {
   "cell_type": "code",
   "execution_count": 55,
   "id": "62654e1e",
   "metadata": {},
   "outputs": [
    {
     "data": {
      "text/plain": [
       "[{'company': 'SynergisticIT',\n",
       "  'job-title': 'Entry Level Software Engineer',\n",
       "  'level': 'Entry level'},\n",
       " {'company': 'SynergisticIT',\n",
       "  'job-title': 'Data Analyst (Entry/Junior Level)',\n",
       "  'level': 'Mid-Senior level'},\n",
       " {'company': None, 'job-title': None, 'level': None},\n",
       " {'company': 'SynergisticIT',\n",
       "  'job-title': 'Junior Software Engineer',\n",
       "  'level': 'Entry level'},\n",
       " {'company': 'SynergisticIT',\n",
       "  'job-title': 'Backend Developer(Entry Level)',\n",
       "  'level': 'Entry level'},\n",
       " {'company': None, 'job-title': None, 'level': None},\n",
       " {'company': None, 'job-title': None, 'level': None},\n",
       " {'company': 'SynergisticIT',\n",
       "  'job-title': 'Jr software engineer',\n",
       "  'level': 'Entry level'},\n",
       " {'company': 'SynergisticIT',\n",
       "  'job-title': 'Data Analyst/Python Programmer - Remote',\n",
       "  'level': 'Entry level'},\n",
       " {'company': 'Veteran Benefits Guide',\n",
       "  'job-title': 'AI Software Engineer',\n",
       "  'level': 'Entry level'},\n",
       " {'company': None, 'job-title': None, 'level': None},\n",
       " {'company': 'Patterned Learning Career',\n",
       "  'job-title': 'Junior Software Development Engineer',\n",
       "  'level': 'Entry level'},\n",
       " {'company': None, 'job-title': None, 'level': None},\n",
       " {'company': 'SynergisticIT',\n",
       "  'job-title': 'Backend Developer(Entry Level)',\n",
       "  'level': 'Entry level'},\n",
       " {'company': 'SynergisticIT',\n",
       "  'job-title': 'Data Scientist(Rermote) - Junior/Entry Level',\n",
       "  'level': 'Entry level'},\n",
       " {'company': 'SynergisticIT',\n",
       "  'job-title': 'Entry Level Programmer/Coder/Developer/Data Scientist/Analyst/Engineer',\n",
       "  'level': 'Entry level'},\n",
       " {'company': 'SynergisticIT',\n",
       "  'job-title': 'Jr software engineer',\n",
       "  'level': 'Entry level'},\n",
       " {'company': None, 'job-title': None, 'level': None},\n",
       " {'company': None, 'job-title': None, 'level': None},\n",
       " {'company': 'Patterned Learning Career',\n",
       "  'job-title': 'Full Stack Web Developer',\n",
       "  'level': 'Entry level'}]"
      ]
     },
     "execution_count": 55,
     "metadata": {},
     "output_type": "execute_result"
    }
   ],
   "source": [
    "df = pd.DataFrame(k)\n",
    "df.to_csv('linkedinjobs.csv', index=False, encoding='utf-8')\n",
    "#print(k)\n",
    "k"
   ]
  },
  {
   "cell_type": "code",
   "execution_count": null,
   "id": "0d46a61f",
   "metadata": {},
   "outputs": [],
   "source": []
  },
  {
   "cell_type": "code",
   "execution_count": 12,
   "id": "846cbabf",
   "metadata": {},
   "outputs": [],
   "source": []
  },
  {
   "cell_type": "code",
   "execution_count": null,
   "id": "38bc0752",
   "metadata": {},
   "outputs": [],
   "source": []
  },
  {
   "cell_type": "code",
   "execution_count": null,
   "id": "713f6912",
   "metadata": {},
   "outputs": [],
   "source": []
  },
  {
   "cell_type": "code",
   "execution_count": null,
   "id": "5acb2b9d",
   "metadata": {},
   "outputs": [],
   "source": []
  },
  {
   "cell_type": "code",
   "execution_count": null,
   "id": "3a794b17",
   "metadata": {},
   "outputs": [],
   "source": []
  },
  {
   "cell_type": "code",
   "execution_count": null,
   "id": "783eeef5",
   "metadata": {},
   "outputs": [],
   "source": []
  },
  {
   "cell_type": "code",
   "execution_count": null,
   "id": "0ace122e",
   "metadata": {},
   "outputs": [],
   "source": []
  },
  {
   "cell_type": "code",
   "execution_count": null,
   "id": "c373b3d4",
   "metadata": {},
   "outputs": [],
   "source": []
  }
 ],
 "metadata": {
  "kernelspec": {
   "display_name": "Python 3 (ipykernel)",
   "language": "python",
   "name": "python3"
  },
  "language_info": {
   "codemirror_mode": {
    "name": "ipython",
    "version": 3
   },
   "file_extension": ".py",
   "mimetype": "text/x-python",
   "name": "python",
   "nbconvert_exporter": "python",
   "pygments_lexer": "ipython3",
   "version": "3.8.9"
  }
 },
 "nbformat": 4,
 "nbformat_minor": 5
}
